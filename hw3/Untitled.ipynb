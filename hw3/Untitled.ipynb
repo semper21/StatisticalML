{
 "cells": [
  {
   "cell_type": "code",
   "execution_count": 1,
   "metadata": {
    "collapsed": true
   },
   "outputs": [],
   "source": [
    "import csv\n",
    "from csv import reader\n",
    "from sys import argv\n",
    "#from sklearn import linear_model\n",
    "import numpy as np\n",
    "\n",
    "dataset = []\n",
    "labelset = []\n",
    "with open('/Users/ywkim/Desktop/ML/COMP540/Kaggle_SVHN/train.csv', 'r') as file:\n",
    "    csv_reader = reader(file)\n",
    "    next(csv_reader, None) #skip header\n",
    "    for row in csv_reader:\n",
    "        if not row:\n",
    "            continue\n",
    "        label = int(row[0])\n",
    "        data = row[1:]\n",
    "        data = map(lambda x: float(x), data)\n",
    "        dataset.append(data)\n",
    "        labelset.append(label)\n",
    "X = np.array(dataset)\n",
    "X_train = X.reshape(32, 32, 3, -1).transpose(3,0,1,2)\n",
    "Y_train = np.array(labelset)"
   ]
  },
  {
   "cell_type": "code",
   "execution_count": 2,
   "metadata": {
    "collapsed": false
   },
   "outputs": [
    {
     "name": "stdout",
     "output_type": "stream",
     "text": [
      "(73257, 3072)\n"
     ]
    }
   ],
   "source": [
    "print X.shape"
   ]
  },
  {
   "cell_type": "code",
   "execution_count": 36,
   "metadata": {
    "collapsed": false
   },
   "outputs": [
    {
     "name": "stdout",
     "output_type": "stream",
     "text": [
      "[[[  18.   65.  147.]\n",
      "  [  15.   69.  159.]\n",
      "  [  11.   70.  162.]\n",
      "  ..., \n",
      "  [  60.  145.  235.]\n",
      "  [  57.  143.  230.]\n",
      "  [  59.  143.  233.]]\n",
      "\n",
      " [[  15.   65.  152.]\n",
      "  [  21.   80.  174.]\n",
      "  [  23.   88.  188.]\n",
      "  ..., \n",
      "  [  57.  145.  235.]\n",
      "  [  54.  142.  231.]\n",
      "  [  58.  143.  234.]]\n",
      "\n",
      " [[  34.   86.  169.]\n",
      "  [  36.  100.  190.]\n",
      "  [  37.  110.  205.]\n",
      "  ..., \n",
      "  [  53.  142.  232.]\n",
      "  [  53.  141.  231.]\n",
      "  [  55.  143.  233.]]\n",
      "\n",
      " ..., \n",
      " [[ 235.  254.  255.]\n",
      "  [ 195.  228.  255.]\n",
      "  [ 131.  177.  226.]\n",
      "  ..., \n",
      "  [  53.  136.  228.]\n",
      "  [  54.  138.  228.]\n",
      "  [  53.  135.  221.]]\n",
      "\n",
      " [[ 218.  244.  255.]\n",
      "  [ 179.  218.  255.]\n",
      "  [ 120.  172.  229.]\n",
      "  ..., \n",
      "  [  54.  137.  229.]\n",
      "  [  54.  138.  228.]\n",
      "  [  52.  134.  218.]]\n",
      "\n",
      " [[ 142.  182.  234.]\n",
      "  [ 119.  171.  231.]\n",
      "  [  97.  162.  230.]\n",
      "  ..., \n",
      "  [  61.  140.  233.]\n",
      "  [  61.  142.  231.]\n",
      "  [  62.  143.  225.]]]\n",
      "[[  60.425   63.252   62.987 ...,  130.135  127.49   128.43 ]\n",
      " [  60.098   73.235   80.141 ...,  129.238  126.118  128.245]\n",
      " [  80.086   91.324   99.223 ...,  125.933  125.23   127.234]\n",
      " ..., \n",
      " [ 248.941  221.667  169.186 ...,  121.943  123.42   120.556]\n",
      " [ 237.968  210.993  163.294 ...,  122.945  123.42   119.326]\n",
      " [ 176.332  162.634  150.641 ...,  127.261  128.211  128.415]]\n",
      "[  18.   65.  147.]\n"
     ]
    }
   ],
   "source": [
    "\n",
    "def weightedAverage(pixel):\n",
    "    return 0.299*pixel[0] + 0.589*pixel[1] + 0.114*pixel[2]  \n",
    "\n",
    "image = X_train[3]\n",
    "gray = np.zeros((image.shape[0], image.shape[1]))\n",
    "for rownum in range(len(image)):\n",
    "    for colnum in range(len(image[rownum])):\n",
    "        gray[rownum][colnum] = weightedAverage(image[rownum][colnum])\n",
    "\n",
    "print X_train[3]\n",
    "print gray\n",
    "for i in range(32):\n",
    "    X_train[3][i][i] = np.array([gray]*3).reshape(32,32,3)\n",
    "print X_train[3][0][0]"
   ]
  },
  {
   "cell_type": "code",
   "execution_count": null,
   "metadata": {
    "collapsed": true
   },
   "outputs": [],
   "source": []
  }
 ],
 "metadata": {
  "kernelspec": {
   "display_name": "Python 2",
   "language": "python",
   "name": "python2"
  },
  "language_info": {
   "codemirror_mode": {
    "name": "ipython",
    "version": 2
   },
   "file_extension": ".py",
   "mimetype": "text/x-python",
   "name": "python",
   "nbconvert_exporter": "python",
   "pygments_lexer": "ipython2",
   "version": "2.7.13"
  }
 },
 "nbformat": 4,
 "nbformat_minor": 0
}
