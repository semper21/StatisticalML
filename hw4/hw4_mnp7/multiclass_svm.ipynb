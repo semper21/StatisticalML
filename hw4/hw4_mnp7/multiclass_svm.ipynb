{
 "cells": [
  {
   "cell_type": "markdown",
   "metadata": {},
   "source": [
    "### Multiclass Support Vector Machines\n",
    "In this exercise you will:\n",
    "- implement a fully-vectorized loss function for the mulri-class SVM\n",
    "- implement the fully-vectorized expression for its analytic gradient\n",
    "- check your implementation using numerical gradient\n",
    "- use a validation set to tune the learning rate and regularization strength\n",
    "- optimize the loss function with SGD\n",
    "- visualize the final learned parameters"
   ]
  },
  {
   "cell_type": "code",
   "execution_count": 1,
   "metadata": {
    "collapsed": false
   },
   "outputs": [],
   "source": [
    "# Run some setup code for this notebook.\n",
    "\n",
    "import random\n",
    "import numpy as np\n",
    "from data_utils import load_CIFAR10\n",
    "import matplotlib.pyplot as plt\n",
    "\n",
    "# This is a bit of magic to make matplotlib figures appear inline in the\n",
    "# notebook rather than in a new window.\n",
    "%matplotlib inline\n",
    "plt.rcParams['figure.figsize'] = (10.0, 8.0) # set default size of plots\n",
    "plt.rcParams['image.interpolation'] = 'nearest'\n",
    "plt.rcParams['image.cmap'] = 'gray'\n",
    "\n",
    "# Some more magic so that the notebook will reload external python modules;\n",
    "# see http://stackoverflow.com/questions/1907993/autoreload-of-modules-in-ipython\n",
    "%load_ext autoreload\n",
    "%autoreload 2"
   ]
  },
  {
   "cell_type": "markdown",
   "metadata": {},
   "source": [
    "### CIFAR-10 Data Loading and Preprocessing\n",
    "Open up a terminal window and navigate to the datasets folder inside the hw3 folder. Run the get_datasets.sh script. On my Mac, I just type in ./get_datasets.sh at the shell prompt. A new folder called cifar_10_batches_py will be created and it will contain 50000 labeled images for training and  10000 labeled images for testing. The function further partitions the  50000 training images into a train set and a validation set for selection of hyperparameters. We have provided a function to read this data in **data_utils.py**. Each image is a  32×32\n",
    "array of RGB triples. It is preprocessed by subtracting the mean image from all images. We flatten each image into a 1-dimensional array of size 3072 (i.e.,  32×32×3). Then a 1 is appended to the front of that vector to handle the intercept term. So the training set is a numpy matrix of size  49000×3073, the validation set is a matrix of size  1000×3073 and the set-aside test set is of size  10000×3073. We also have a random sample of 500 images from the training data to serve as a development set or dev set to test our gradient and loss function implementations."
   ]
  },
  {
   "cell_type": "code",
   "execution_count": 2,
   "metadata": {
    "collapsed": false
   },
   "outputs": [
    {
     "name": "stdout",
     "output_type": "stream",
     "text": [
      "Train data shape:  (49000, 32, 32, 3)\n",
      "Train labels shape:  (49000,)\n",
      "Validation data shape:  (1000, 32, 32, 3)\n",
      "Validation labels shape:  (1000,)\n",
      "Test data shape:  (10000, 32, 32, 3)\n",
      "Test labels shape:  (10000,)\n",
      "Training data shape:  (49000, 3072)\n",
      "Validation data shape:  (1000, 3072)\n",
      "Test data shape:  (10000, 3072)\n",
      "dev data shape:  (500, 3072)\n",
      "Training data shape with bias term:  (49000, 3073)\n",
      "Validation data shape with bias term:  (1000, 3073)\n",
      "Test data shape with bias term:  (10000, 3073)\n",
      "Devset data shape with bias term:  (500, 3073)\n"
     ]
    }
   ],
   "source": [
    "import data_utils\n",
    "\n",
    "# Get the CIFAR-10 data broken up into train, validation and test sets\n",
    "\n",
    "X_train, y_train, X_val, y_val, X_dev, y_dev, X_test, y_test = data_utils.get_CIFAR10_data()"
   ]
  },
  {
   "cell_type": "markdown",
   "metadata": {},
   "source": [
    "### SVM Classifier\n",
    "Your code for this section will all be written inside **linear_svm.py**.\n",
    "As you can see, we have prefilled the function **naive_loss_svm** which uses for loops to evaluate the multiclass SVM loss function."
   ]
  },
  {
   "cell_type": "code",
   "execution_count": 3,
   "metadata": {
    "collapsed": false
   },
   "outputs": [
    {
     "name": "stdout",
     "output_type": "stream",
     "text": [
      "loss: 8.986557\n",
      "grad:  [[ -1.41057162e+01  -5.80869768e+00   3.37057713e+00 ...,  -5.73852530e+00\n",
      "   -1.63465634e+01  -3.66884495e+01]\n",
      " [ -2.49559549e+01  -2.00086906e+00   2.67159342e+00 ...,  -6.86691752e+00\n",
      "   -2.72965100e+01  -4.11481185e+01]\n",
      " [ -4.55032562e+01  -3.19000406e+00   1.44308493e+01 ...,  -6.59115489e+00\n",
      "   -4.65403292e+01  -5.17228137e+01]\n",
      " ..., \n",
      " [ -9.79719445e+00  -5.29283111e+00  -2.08998607e+00 ...,  -9.17674836e+00\n",
      "    1.51277385e+01  -1.14195191e+01]\n",
      " [ -2.30504253e+01  -1.17243007e+01   5.31341709e+00 ...,   5.51208596e+00\n",
      "   -4.23671332e+00  -1.53041826e+01]\n",
      " [ -1.99999910e-03   1.27551012e-02  -7.73469332e-03 ...,   1.01020403e-02\n",
      "    2.24489742e-03   2.44897783e-03]]\n"
     ]
    }
   ],
   "source": [
    "# Evaluate the naive implementation of the loss we provided for you:\n",
    "from linear_svm import svm_loss_naive\n",
    "import time\n",
    "\n",
    "# generate a random SVM coefficient matrix of small numbers\n",
    "theta = np.random.randn(3073, 10) * 0.0001 \n",
    "\n",
    "loss, grad = svm_loss_naive(theta, X_train, y_train, 0.00001)\n",
    "print 'loss: %f' % (loss, )\n",
    "print 'grad: ', grad"
   ]
  },
  {
   "cell_type": "markdown",
   "metadata": {},
   "source": [
    "The grad returned from the function above is right now all zero. Derive and implement the gradient for the SVM cost function and implement it inline inside the function **svm_loss_naive**. You will find it helpful to interleave your new code inside the existing function.\n",
    "To check that you have correctly implemented the gradient correctly, you can numerically estimate the gradient of the loss function and compare the numeric estimate to the gradient that you computed. We have provided code that does this for you."
   ]
  },
  {
   "cell_type": "code",
   "execution_count": 9,
   "metadata": {
    "collapsed": false
   },
   "outputs": [
    {
     "name": "stdout",
     "output_type": "stream",
     "text": [
      "numerical: 10.124280 analytic: 10.124280, relative error: 1.585974e-11\n",
      "numerical: 9.358184 analytic: 9.358184, relative error: 7.642000e-12\n",
      "numerical: 7.744142 analytic: 7.744142, relative error: 1.026731e-11\n",
      "numerical: -5.579401 analytic: -5.579401, relative error: 5.806541e-11\n",
      "numerical: 21.708537 analytic: 21.708537, relative error: 1.549323e-11\n",
      "numerical: 29.214764 analytic: 29.214764, relative error: 4.581475e-12\n",
      "numerical: -47.510167 analytic: -47.510167, relative error: 7.427695e-13\n",
      "numerical: -16.770783 analytic: -16.770783, relative error: 4.277145e-12\n",
      "numerical: 16.242159 analytic: 16.242159, relative error: 4.928954e-12\n",
      "numerical: -2.134214 analytic: -2.134214, relative error: 2.153045e-11\n",
      "numerical: -16.987636 analytic: -16.987636, relative error: 2.095452e-11\n",
      "numerical: -2.479772 analytic: -2.479772, relative error: 5.343439e-12\n",
      "numerical: -15.713585 analytic: -15.713585, relative error: 1.038689e-11\n",
      "numerical: 9.713109 analytic: 9.713109, relative error: 1.344168e-11\n",
      "numerical: -7.636105 analytic: -7.596812, relative error: 2.579489e-03\n",
      "numerical: 0.724420 analytic: 0.724420, relative error: 1.271576e-10\n",
      "numerical: 17.691163 analytic: 17.691163, relative error: 3.058617e-11\n",
      "numerical: -38.913019 analytic: -38.913019, relative error: 3.154466e-12\n",
      "numerical: -15.161025 analytic: -15.161025, relative error: 2.757678e-12\n",
      "numerical: -21.237363 analytic: -21.237363, relative error: 3.776482e-13\n"
     ]
    }
   ],
   "source": [
    "# Once you've implemented the gradient, recompute it with the code below\n",
    "# and gradient check it with the function we provided for you\n",
    "\n",
    "# Compute the loss and its gradient at theta.\n",
    "loss, grad = svm_loss_naive(theta, X_dev, y_dev, 0.0)\n",
    "\n",
    "# Numerically compute the gradient along several randomly chosen dimensions, and\n",
    "# compare them with your analytically computed gradient. The numbers should match\n",
    "# almost exactly along all dimensions.\n",
    "from gradient_check import grad_check_sparse\n",
    "f = lambda th: svm_loss_naive(th, X_dev, y_dev, 0.0)[0]\n",
    "grad_numerical = grad_check_sparse(f, theta, grad)\n",
    "\n",
    "# do the gradient check once again with regularization turned on\n",
    "# you didn't forget the regularization gradient did you?\n",
    "loss, grad = svm_loss_naive(theta, X_dev, y_dev, 1e2)\n",
    "f = lambda w: svm_loss_naive(theta, X_dev, y_dev, 1e2)[0]\n",
    "grad_numerical = grad_check_sparse(f, theta, grad)"
   ]
  },
  {
   "cell_type": "code",
   "execution_count": 29,
   "metadata": {
    "collapsed": false
   },
   "outputs": [
    {
     "name": "stdout",
     "output_type": "stream",
     "text": [
      "Naive loss: 9.003691e+00 computed in 0.146852s\n",
      "(500,)\n",
      "Vectorized loss: 9.003691e+00 computed in 0.002176s\n",
      "difference: -0.000000\n"
     ]
    }
   ],
   "source": [
    "# Next implement the function svm_loss_vectorized; for now only compute the loss;\n",
    "# we will implement the gradient in a moment.\n",
    "tic = time.time()\n",
    "loss_naive, grad_naive = svm_loss_naive(theta, X_dev, y_dev, 0.00001)\n",
    "toc = time.time()\n",
    "print 'Naive loss: %e computed in %fs' % (loss_naive, toc - tic)\n",
    "\n",
    "from linear_svm import svm_loss_vectorized\n",
    "tic = time.time()\n",
    "loss_vectorized, _ = svm_loss_vectorized(theta, X_dev, y_dev, 0.00001)\n",
    "toc = time.time()\n",
    "print 'Vectorized loss: %e computed in %fs' % (loss_vectorized, toc - tic)\n",
    "\n",
    "# The losses should match but your vectorized implementation should be much faster.\n",
    "print 'difference: %f' % (loss_naive - loss_vectorized)"
   ]
  },
  {
   "cell_type": "markdown",
   "metadata": {},
   "source": [
    "### Vectorized version of the gradient computation\n",
    "Complete the implementation of svm_loss_vectorized, and compute the gradient\n",
    "of the loss function in a vectorized way.\n",
    "\n"
   ]
  },
  {
   "cell_type": "code",
   "execution_count": 31,
   "metadata": {
    "collapsed": false
   },
   "outputs": [
    {
     "name": "stdout",
     "output_type": "stream",
     "text": [
      "Naive loss and gradient: computed in 0.163276s\n",
      "(500,)\n",
      "Vectorized loss and gradient: computed in 0.004783s\n",
      "difference: 0.000000\n"
     ]
    }
   ],
   "source": [
    "# The naive implementation and the vectorized implementation should match, but\n",
    "# the vectorized version should still be much faster.\n",
    "tic = time.time()\n",
    "_, grad_naive = svm_loss_naive(theta, X_dev, y_dev, 0.00001)\n",
    "toc = time.time()\n",
    "print 'Naive loss and gradient: computed in %fs' % (toc - tic)\n",
    "\n",
    "tic = time.time()\n",
    "_, grad_vectorized = svm_loss_vectorized(theta, X_dev, y_dev, 0.00001)\n",
    "toc = time.time()\n",
    "print 'Vectorized loss and gradient: computed in %fs' % (toc - tic)\n",
    "\n",
    "# The loss is a single number, so it is easy to compare the values computed\n",
    "# by the two implementations. The gradient on the other hand is a matrix, so\n",
    "# we use the Frobenius norm to compare them.\n",
    "difference = np.linalg.norm(grad_naive - grad_vectorized, ord='fro')\n",
    "print 'difference: %f' % difference"
   ]
  },
  {
   "cell_type": "code",
   "execution_count": 32,
   "metadata": {
    "collapsed": false
   },
   "outputs": [
    {
     "name": "stdout",
     "output_type": "stream",
     "text": [
      "iteration 0 / 1500: loss 834.499924\n",
      "iteration 100 / 1500: loss 305.729157\n",
      "iteration 200 / 1500: loss 115.105850\n",
      "iteration 300 / 1500: loss 45.251815\n",
      "iteration 400 / 1500: loss 19.646185\n",
      "iteration 500 / 1500: loss 10.258868\n",
      "iteration 600 / 1500: loss 6.815982\n",
      "iteration 700 / 1500: loss 5.552450\n",
      "iteration 800 / 1500: loss 5.088378\n",
      "iteration 900 / 1500: loss 4.917781\n",
      "iteration 1000 / 1500: loss 4.855032\n",
      "iteration 1100 / 1500: loss 4.831960\n",
      "iteration 1200 / 1500: loss 4.823424\n",
      "iteration 1300 / 1500: loss 4.820233\n",
      "iteration 1400 / 1500: loss 4.819019\n",
      "That took 793.954319s\n"
     ]
    }
   ],
   "source": [
    "# In the file linear_classifier.py, we have implemented SGD in the function\n",
    "# LinearClassifier.train() and you can run it with the code below.\n",
    "from linear_classifier import LinearSVM\n",
    "svm = LinearSVM()\n",
    "tic = time.time()\n",
    "loss_hist = svm.train(X_train, y_train, learning_rate=1e-7, reg=5e4,\n",
    "                      num_iters=1500, verbose=True)\n",
    "toc = time.time()\n",
    "print 'That took %fs' % (toc - tic)"
   ]
  },
  {
   "cell_type": "code",
   "execution_count": 33,
   "metadata": {
    "collapsed": false
   },
   "outputs": [
    {
     "data": {
      "image/png": "[encoded data removed]",
      "text/plain": [
       "<matplotlib.figure.Figure at 0x1118f1250>"
      ]
     },
     "metadata": {},
     "output_type": "display_data"
    }
   ],
   "source": [
    "# A useful debugging strategy is to plot the loss as a function of\n",
    "# iteration number:\n",
    "plt.plot(loss_hist)\n",
    "plt.xlabel('Iteration number')\n",
    "plt.ylabel('Loss value')\n",
    "plt.savefig('Loss_SVM.png')\n",
    "plt.show()"
   ]
  },
  {
   "cell_type": "markdown",
   "metadata": {},
   "source": [
    "### Prediction with an SVM\n",
    "Compute $\\theta^T  x$ for a new example $x$ and pick the class with the highest score."
   ]
  },
  {
   "cell_type": "code",
   "execution_count": 35,
   "metadata": {
    "collapsed": false
   },
   "outputs": [
    {
     "name": "stdout",
     "output_type": "stream",
     "text": [
      "training accuracy: 0.377531\n",
      "validation accuracy: 0.383000\n"
     ]
    }
   ],
   "source": [
    "# Write the LinearSVM.predict function and evaluate the performance on both the\n",
    "# training and validation set\n",
    "y_train_pred = svm.predict(X_train)\n",
    "print 'training accuracy: %f' % (np.mean(y_train == y_train_pred), )\n",
    "y_val_pred = svm.predict(X_val)\n",
    "print 'validation accuracy: %f' % (np.mean(y_val == y_val_pred), )"
   ]
  },
  {
   "cell_type": "code",
   "execution_count": 39,
   "metadata": {
    "collapsed": false
   },
   "outputs": [
    {
     "name": "stdout",
     "output_type": "stream",
     "text": [
      "('LR:', 1e-07, 'Reg:', 10000.0)\n",
      "iteration 0 / 1000: loss 172.479320\n",
      "iteration 100 / 1000: loss 135.575385\n",
      "iteration 200 / 1000: loss 110.900643\n",
      "iteration 300 / 1000: loss 91.251135\n",
      "iteration 400 / 1000: loss 75.329142\n",
      "iteration 500 / 1000: loss 62.359739\n",
      "iteration 600 / 1000: loss 51.776901\n",
      "iteration 700 / 1000: loss 43.133171\n",
      "iteration 800 / 1000: loss 36.070230\n",
      "iteration 900 / 1000: loss 30.298235\n",
      "('LR:', 1e-07, 'Reg:', 50000.0)\n",
      "iteration 0 / 1000: loss 108.358241\n",
      "iteration 100 / 1000: loss 42.760664\n",
      "iteration 200 / 1000: loss 18.720265\n",
      "iteration 300 / 1000: loss 9.909193\n",
      "iteration 400 / 1000: loss 6.680749\n",
      "iteration 500 / 1000: loss 5.498621\n",
      "iteration 600 / 1000: loss 5.066106\n",
      "iteration 700 / 1000: loss 4.908255\n",
      "iteration 800 / 1000: loss 4.850738\n",
      "iteration 900 / 1000: loss 4.829810\n",
      "('LR:', 1e-07, 'Reg:', 100000.0)\n",
      "iteration 0 / 1000: loss 4.826863\n",
      "iteration 100 / 1000: loss 5.020421\n",
      "iteration 200 / 1000: loss 5.053570\n",
      "iteration 300 / 1000: loss 5.061684\n",
      "iteration 400 / 1000: loss 5.063982\n",
      "iteration 500 / 1000: loss 5.064730\n",
      "iteration 600 / 1000: loss 5.064989\n",
      "iteration 700 / 1000: loss 5.065079\n",
      "iteration 800 / 1000: loss 5.065117\n",
      "iteration 900 / 1000: loss 5.065126\n",
      "('LR:', 5e-07, 'Reg:', 10000.0)\n",
      "iteration 0 / 1000: loss 5.065131\n",
      "iteration 100 / 1000: loss 4.512960\n",
      "iteration 200 / 1000: loss 4.444996\n",
      "iteration 300 / 1000: loss 4.419848\n",
      "iteration 400 / 1000: loss 4.408620\n",
      "iteration 500 / 1000: loss 4.403219\n",
      "iteration 600 / 1000: loss 4.400414\n",
      "iteration 700 / 1000: loss 4.398910\n",
      "iteration 800 / 1000: loss 4.398054\n",
      "iteration 900 / 1000: loss 4.397642\n",
      "('LR:', 5e-07, 'Reg:', 50000.0)\n",
      "iteration 0 / 1000: loss 4.397295\n",
      "iteration 100 / 1000: loss 4.803039\n",
      "iteration 200 / 1000: loss 4.817541\n",
      "iteration 300 / 1000: loss 4.818427\n",
      "iteration 400 / 1000: loss 4.818461\n",
      "iteration 500 / 1000: loss 4.818362\n",
      "iteration 600 / 1000: loss 4.818462\n",
      "iteration 700 / 1000: loss 4.818367\n",
      "iteration 800 / 1000: loss 4.818455\n",
      "iteration 900 / 1000: loss 4.818392\n",
      "('LR:', 5e-07, 'Reg:', 100000.0)\n",
      "iteration 0 / 1000: loss 4.818452\n",
      "iteration 100 / 1000: loss 5.065338\n",
      "iteration 200 / 1000: loss 5.065667\n",
      "iteration 300 / 1000: loss 5.065514\n",
      "iteration 400 / 1000: loss 5.065627\n",
      "iteration 500 / 1000: loss 5.065711\n",
      "iteration 600 / 1000: loss 5.065499\n",
      "iteration 700 / 1000: loss 5.065668\n",
      "iteration 800 / 1000: loss 5.065535\n",
      "iteration 900 / 1000: loss 5.065538\n",
      "('LR:', 1e-06, 'Reg:', 10000.0)\n",
      "iteration 0 / 1000: loss 5.065725\n",
      "iteration 100 / 1000: loss 4.919678\n",
      "iteration 200 / 1000: loss 4.882480\n",
      "iteration 300 / 1000: loss 4.876666\n",
      "iteration 400 / 1000: loss 4.875454\n",
      "iteration 500 / 1000: loss 4.874622\n",
      "iteration 600 / 1000: loss 4.873025\n",
      "iteration 700 / 1000: loss 4.872060\n",
      "iteration 800 / 1000: loss 4.873703\n",
      "iteration 900 / 1000: loss 4.871689\n",
      "('LR:', 1e-06, 'Reg:', 50000.0)\n",
      "iteration 0 / 1000: loss 4.873466\n",
      "iteration 100 / 1000: loss 5.495598\n",
      "iteration 200 / 1000: loss 5.497319\n",
      "iteration 300 / 1000: loss 5.496793\n",
      "iteration 400 / 1000: loss 5.496169\n",
      "iteration 500 / 1000: loss 5.496490\n",
      "iteration 600 / 1000: loss 5.496389\n",
      "iteration 700 / 1000: loss 5.496281\n",
      "iteration 800 / 1000: loss 5.496502\n",
      "iteration 900 / 1000: loss 5.497040\n",
      "('LR:', 1e-06, 'Reg:', 100000.0)\n",
      "iteration 0 / 1000: loss 5.497008\n",
      "iteration 100 / 1000: loss 5.862357\n",
      "iteration 200 / 1000: loss 5.862400\n",
      "iteration 300 / 1000: loss 5.862438\n",
      "iteration 400 / 1000: loss 5.862195\n",
      "iteration 500 / 1000: loss 5.862516\n",
      "iteration 600 / 1000: loss 5.861636\n",
      "iteration 700 / 1000: loss 5.862316\n",
      "iteration 800 / 1000: loss 5.862876\n",
      "iteration 900 / 1000: loss 5.862129\n",
      "('LR:', 5e-05, 'Reg:', 10000.0)\n",
      "iteration 0 / 1000: loss 5.861616\n",
      "iteration 100 / 1000: loss 209.076149\n",
      "iteration 200 / 1000: loss 209.082268\n",
      "iteration 300 / 1000: loss 209.081494\n",
      "iteration 400 / 1000: loss 209.077522\n",
      "iteration 500 / 1000: loss 209.085961\n",
      "iteration 600 / 1000: loss 209.080528\n",
      "iteration 700 / 1000: loss 209.082779\n",
      "iteration 800 / 1000: loss 209.076682\n",
      "iteration 900 / 1000: loss 209.085220\n",
      "('LR:', 5e-05, 'Reg:', 50000.0)\n",
      "iteration 0 / 1000: loss 209.083361\n",
      "iteration 100 / 1000: loss 238612553012772920623104.000000\n",
      "iteration 200 / 1000: loss -44261284786238928697214954421846087993675985877519564800000.000000\n",
      "iteration 300 / 1000: loss -534622479140520640317035916757832403107990362107148796248498775160146459288473378698035200000.000000\n",
      "iteration 400 / 1000: loss 169395592002501203481428297683397578956028700009597062441691253789066484004304782367704735175177041742195248081412235565465600000.000000\n",
      "iteration 500 / 1000: loss 120133959052285670012183263983924381302215117752507844664403110535747005709458980912144793711575454712102685449350915015649634789995041266720045495094513500160000000.000000\n",
      "iteration 600 / 1000: loss -1710915231608323206990439352137609246834960690218209973967197194212228187703254019939717304244014274916990866090097902741508264270515789249344747994895830320594498002885099356281077822092476416000000.000000\n",
      "iteration 700 / 1000: loss -407460192681460474923133044457321837622351676855578334222285385956544134310999793165452707395213614208196853149271460863436144664898297234082668169108708428868356713677347082145150190931144611373817803743468067360158645109338931200000.000000\n",
      "iteration 800 / 1000: loss -374716813594962145781090464622172571276085566272130376894636895502651896502079118951890787188000710961021500850901593642157312390689966553049171796066104231191265674804935485220426622649995961697756551003915854812226387064680074733029420560319884662045568770926182400000.000000\n",
      "iteration 900 / 1000: loss nan\n",
      "('LR:', 5e-05, 'Reg:', 100000.0)\n",
      "iteration 0 / 1000: loss nan\n",
      "iteration 100 / 1000: loss nan\n",
      "iteration 200 / 1000: loss nan\n",
      "iteration 300 / 1000: loss nan\n",
      "iteration 400 / 1000: loss nan\n",
      "iteration 500 / 1000: loss nan\n",
      "iteration 600 / 1000: loss nan\n",
      "iteration 700 / 1000: loss nan\n",
      "iteration 800 / 1000: loss nan\n",
      "iteration 900 / 1000: loss nan\n",
      "Best parameters {'LR': 5e-07, 'reg': 10000.0}\n",
      "Best val accuracy 0.395\n",
      "lr 1.000000e-07 reg 1.000000e+04 train accuracy: 0.345653 val accuracy: 0.355000\n",
      "lr 1.000000e-07 reg 5.000000e+04 train accuracy: 0.377673 val accuracy: 0.383000\n",
      "lr 1.000000e-07 reg 1.000000e+05 train accuracy: 0.364612 val accuracy: 0.381000\n",
      "lr 5.000000e-07 reg 1.000000e+04 train accuracy: 0.401551 val accuracy: 0.395000\n",
      "lr 5.000000e-07 reg 5.000000e+04 train accuracy: 0.377531 val accuracy: 0.384000\n",
      "lr 5.000000e-07 reg 1.000000e+05 train accuracy: 0.364714 val accuracy: 0.380000\n",
      "lr 1.000000e-06 reg 1.000000e+04 train accuracy: 0.354694 val accuracy: 0.368000\n",
      "lr 1.000000e-06 reg 5.000000e+04 train accuracy: 0.320490 val accuracy: 0.340000\n",
      "lr 1.000000e-06 reg 1.000000e+05 train accuracy: 0.304102 val accuracy: 0.324000\n",
      "lr 5.000000e-05 reg 1.000000e+04 train accuracy: 0.197388 val accuracy: 0.212000\n",
      "lr 5.000000e-05 reg 5.000000e+04 train accuracy: 0.165163 val accuracy: 0.179000\n",
      "lr 5.000000e-05 reg 1.000000e+05 train accuracy: 0.100265 val accuracy: 0.087000\n",
      "best validation accuracy achieved during cross-validation: 0.395000\n"
     ]
    }
   ],
   "source": [
    "# Use the validation set to tune hyperparameters (regularization strength and\n",
    "# learning rate). You should experiment with different ranges for the learning\n",
    "# rates and regularization strengths; if you are careful you should be able to\n",
    "# get a classification accuracy of about 0.4 on the validation set.\n",
    "learning_rates = [1e-7, 5e-7, 1e-6, 5e-5]\n",
    "#regularization_strengths = [1e4, 5e4, 1e5, 5e5] #regularization too high \n",
    "regularization_strengths = [1e4, 5e4, 1e5]\n",
    "\n",
    "# results is dictionary mapping tuples of the form\n",
    "# (learning_rate, regularization_strength) to tuples of the form\n",
    "# (training_accuracy, validation_accuracy). The accuracy is simply the fraction\n",
    "# of data points that are correctly classified.\n",
    "results = {}\n",
    "best_val = -1   # The highest validation accuracy that we have seen so far.\n",
    "best_svm = None # The LinearSVM object that achieved the highest validation rate.\n",
    "\n",
    "svm = LinearSVM()\n",
    "################################################################################\n",
    "# TODO:                                                                        #\n",
    "# Write code that chooses the best hyperparameters by tuning on the validation #\n",
    "# set. For each combination of hyperparameters, train a linear SVM on the      #\n",
    "# training set, compute its accuracy on the training and validation sets, and  #\n",
    "# store these numbers in the results dictionary. In addition, store the best   #\n",
    "# validation accuracy in best_val and the LinearSVM object that achieves this  #\n",
    "# accuracy in best_svm.                                                        #\n",
    "#                                                                              #\n",
    "# Hint: You should use a small value for num_iters as you develop your         #\n",
    "# validation code so that the SVMs don't take much time to train; once you are #\n",
    "# confident that your validation code works, you should rerun the validation   #\n",
    "# code with a larger value for num_iters.                                      #\n",
    "################################################################################\n",
    "\n",
    "for lr in learning_rates:\n",
    "    for reg in regularization_strengths:\n",
    "        print ('LR:', lr, 'Reg:', reg)\n",
    "        loss_hist = svm.train(X_train, y_train, learning_rate=lr, reg=reg,\n",
    "                      num_iters=1000, verbose=True) #change num_iters to 1500\n",
    "        y_train_pred = svm.predict(X_train)\n",
    "        y_val_pred = svm.predict(X_val)\n",
    "        \n",
    "        # store accuracies in the results dictionary\n",
    "        results[(lr,reg)] = (np.mean(y_train == y_train_pred),np.mean(y_val == y_val_pred))\n",
    "\n",
    "        if best_val < np.mean(y_val == y_val_pred):\n",
    "            best_val = np.mean(y_val == y_val_pred)\n",
    "            best_param = {'LR':lr, 'reg': reg}\n",
    "print \"Best parameters\" , best_param\n",
    "print \"Best val accuracy\", best_val\n",
    "\n",
    "#best_svm stored/trained in the second to last cell\n",
    "\n",
    "################################################################################\n",
    "#                              END OF YOUR CODE                                #\n",
    "################################################################################\n",
    "    \n",
    "# Print out results.\n",
    "for lr, reg in sorted(results):\n",
    "    train_accuracy, val_accuracy = results[(lr, reg)]\n",
    "    print 'lr %e reg %e train accuracy: %f val accuracy: %f' % (\n",
    "                lr, reg, train_accuracy, val_accuracy)\n",
    "    \n",
    "print 'best validation accuracy achieved during cross-validation: %f' % best_val"
   ]
  },
  {
   "cell_type": "code",
   "execution_count": 40,
   "metadata": {
    "collapsed": false
   },
   "outputs": [
    {
     "data": {
      "image/png": "[encoded data removed]",
      "text/plain": [
       "<matplotlib.figure.Figure at 0x10b761b50>"
      ]
     },
     "metadata": {},
     "output_type": "display_data"
    }
   ],
   "source": [
    "# Visualize the cross-validation results\n",
    "import math\n",
    "x_scatter = [math.log10(x[0]) for x in results]\n",
    "y_scatter = [math.log10(x[1]) for x in results]\n",
    "\n",
    "# plot training accuracy\n",
    "marker_size = 100\n",
    "colors = [results[x][0] for x in results]\n",
    "plt.subplot(2, 1, 1)\n",
    "plt.scatter(x_scatter, y_scatter, marker_size, c=colors)\n",
    "plt.colorbar()\n",
    "plt.xlabel('log learning rate')\n",
    "plt.ylabel('log regularization strength')\n",
    "plt.savefig('Training_accuracy.png')\n",
    "plt.title('CIFAR-10 training accuracy')\n",
    "\n",
    "# plot validation accuracy\n",
    "colors = [results[x][1] for x in results] # default size of markers is 20\n",
    "plt.subplot(2, 1, 2)\n",
    "plt.scatter(x_scatter, y_scatter, marker_size, c=colors)\n",
    "plt.colorbar()\n",
    "plt.xlabel('log learning rate')\n",
    "plt.ylabel('log regularization strength')\n",
    "plt.title('CIFAR-10 validation accuracy')\n",
    "plt.savefig('Validation_accuracy.png')\n",
    "plt.show()"
   ]
  },
  {
   "cell_type": "code",
   "execution_count": 41,
   "metadata": {
    "collapsed": false
   },
   "outputs": [
    {
     "name": "stdout",
     "output_type": "stream",
     "text": [
      "{'LR': 5e-07, 'reg': 10000.0}\n",
      "iteration 0 / 1500: loss 180.153534\n",
      "iteration 100 / 1500: loss 64.471418\n",
      "iteration 200 / 1500: loss 26.317720\n",
      "iteration 300 / 1500: loss 12.415174\n",
      "iteration 400 / 1500: loss 7.335722\n",
      "iteration 500 / 1500: loss 5.476083\n",
      "iteration 600 / 1500: loss 4.794094\n",
      "iteration 700 / 1500: loss 4.543500\n",
      "iteration 800 / 1500: loss 4.451185\n",
      "iteration 900 / 1500: loss 4.417093\n",
      "iteration 1000 / 1500: loss 4.404473\n",
      "iteration 1100 / 1500: loss 4.399789\n",
      "iteration 1200 / 1500: loss 4.398084\n",
      "iteration 1300 / 1500: loss 4.397456\n",
      "iteration 1400 / 1500: loss 4.397103\n",
      "linear SVM on raw pixels final test set accuracy: 0.392900\n"
     ]
    }
   ],
   "source": [
    "#best_svm\n",
    "best_svm = LinearSVM()\n",
    "print best_param\n",
    "best_svm.train(X_train, y_train, learning_rate=best_param['LR'], reg=best_param['reg'],\n",
    "                      num_iters=1500, verbose=True)\n",
    "# Evaluate the best svm on test set\n",
    "y_test_pred = best_svm.predict(X_test)\n",
    "test_accuracy = np.mean(y_test == y_test_pred)\n",
    "print 'linear SVM on raw pixels final test set accuracy: %f' % test_accuracy"
   ]
  },
  {
   "cell_type": "code",
   "execution_count": 42,
   "metadata": {
    "collapsed": false
   },
   "outputs": [
    {
     "data": {
      "image/png": "[encoded data removed]",
      "text/plain": [
       "<matplotlib.figure.Figure at 0x1131af610>"
      ]
     },
     "metadata": {},
     "output_type": "display_data"
    }
   ],
   "source": [
    "# Visualize the learned weights for each class.\n",
    "# Depending on your choice of learning rate and regularization strength, these may\n",
    "# or may not be nice to look at.\n",
    "\n",
    "theta = best_svm.theta[:-1,:] # strip out the bias\n",
    "#theta = svm.theta[:-1,:]\n",
    "theta = theta.reshape(32, 32, 3, 10)\n",
    "theta_min, theta_max = np.min(theta), np.max(theta)\n",
    "classes = ['plane', 'car', 'bird', 'cat', 'deer', 'dog', 'frog', 'horse', 'ship', 'truck']\n",
    "for i in xrange(10):\n",
    "  plt.subplot(2, 5, i + 1)\n",
    "    \n",
    "  # Rescale the weights to be between 0 and 255\n",
    "  thetaimg = 255.0 * (theta[:, :, :, i].squeeze() - theta_min) / (theta_max - theta_min)\n",
    "  plt.imshow(thetaimg.astype('uint8'))\n",
    "  plt.axis('off')\n",
    "  plt.title(classes[i])\n"
   ]
  },
  {
   "cell_type": "code",
   "execution_count": null,
   "metadata": {
    "collapsed": true
   },
   "outputs": [],
   "source": []
  }
 ],
 "metadata": {
  "anaconda-cloud": {},
  "kernelspec": {
   "display_name": "Python 2",
   "language": "python",
   "name": "python2"
  },
  "language_info": {
   "codemirror_mode": {
    "name": "ipython",
    "version": 2
   },
   "file_extension": ".py",
   "mimetype": "text/x-python",
   "name": "python",
   "nbconvert_exporter": "python",
   "pygments_lexer": "ipython2",
   "version": "2.7.13"
  }
 },
 "nbformat": 4,
 "nbformat_minor": 1
}
